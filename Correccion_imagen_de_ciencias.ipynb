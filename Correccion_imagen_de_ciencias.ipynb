{
 "cells": [
  {
   "cell_type": "markdown",
   "id": "polar-industry",
   "metadata": {},
   "source": [
    "# CORRECCIÓN A IMÁGENES DE CIENCIA"
   ]
  },
  {
   "cell_type": "markdown",
   "id": "thick-scotland",
   "metadata": {},
   "source": [
    "Para trabajar con las imágenes de los cúmulos, primero debemos aplicar las correcciones por dark, flats y la la resta del cielo. "
   ]
  },
  {
   "cell_type": "code",
   "execution_count": 1,
   "id": "retained-child",
   "metadata": {},
   "outputs": [],
   "source": [
    "import sys\n",
    "import os\n",
    "import astropy.io.fits as pyfits\n",
    "from astropy.table import Table\n",
    "import numpy\n",
    "import pylab\n",
    "import itertools\n",
    "from scipy import stats\n",
    "from scipy import ndimage\n",
    "import operator\n",
    "import time\n",
    "import datetime\n",
    "import pickle\n",
    "import IPython\n",
    "from astropy.io import fits\n",
    "from astropy.io import fits\n",
    "from glob import glob\n",
    "import pandas as pd\n",
    "import numpy as np\n",
    "import matplotlib.pyplot as plt\n",
    "from tqdm import tqdm"
   ]
  },
  {
   "cell_type": "markdown",
   "id": "adjustable-magnitude",
   "metadata": {},
   "source": [
    "## REDUCCIÓN DE DARKs\n"
   ]
  },
  {
   "cell_type": "markdown",
   "id": "pleased-falls",
   "metadata": {},
   "source": [
    "Hacemos una lista con todas las imágenes de darks "
   ]
  },
  {
   "cell_type": "code",
   "execution_count": null,
   "id": "useful-device",
   "metadata": {},
   "outputs": [],
   "source": [
    "# ESCRIBIMOS LA DIRECCIÓN DE LAS IMÁGENES DE LA OBSERVACIÓN \n",
    "Images_dark=glob(\"/Volumes/Cami/TESIS/datos_obser_5_marzo/dark/*.fits\")\n",
    "dark = []\n",
    "archivo_fits_dark=[]\n",
    "\n",
    "for archivo in tqdm(Images_dark):\n",
    "    archivo_fits_dark = fits.open(archivo,\"readonly\",memmap=False) #leer un archivo FITS\n",
    "    if (archivo_fits_dark['PRIMARY'].header['OBSTYPE'] =='dark'):\n",
    "        dark.append(archivo_fits_dark)\n",
    "#nombre['PRIMARY'].header['FILE']\n",
    "    #print(archivo_fits['PRIMARY'].header['OBSTYPE'])"
   ]
  },
  {
   "cell_type": "markdown",
   "id": "vietnamese-maker",
   "metadata": {},
   "source": [
    " Al intentar calcular la mediana, el kernel no lo soporto y se calculará en pequeños segmentos."
   ]
  },
  {
   "cell_type": "code",
   "execution_count": null,
   "id": "ethical-glossary",
   "metadata": {},
   "outputs": [],
   "source": [
    "# ESTE TAMAÑO VA CAMBIANDO \n",
    "size=250\n",
    "master_dark = np.zeros((2048,2048))\n",
    "\n",
    "for i in tqdm(range(0, 2050, size)):\n",
    "    for j in range(0,2050,size):\n",
    "        bloque = []       \n",
    "        #if j%10== 0: print(i,j)\n",
    "        for archivo in darkss:\n",
    "            img = fits.getdata(archivo)\n",
    "            if img.shape !=(2048,2048):\n",
    "                raise ValueError(f'wrong img shape {img.shape}')\n",
    "            bloque.append(img[i:(i+size),j:(j+size)])\n",
    "        #print(np.array(bloque).shape)\n",
    "        bloque= np.median(bloque, axis=0)    #np.nanmedia\n",
    "        #print(bloque.shape,np.mean(bloque))\n",
    "        master_dark[i:(i+size),j:(j+size)]=bloque\n",
    "        #break"
   ]
  },
  {
   "cell_type": "code",
   "execution_count": null,
   "id": "former-income",
   "metadata": {},
   "outputs": [],
   "source": [
    "# CORROBORAR EL master_dark EN UN PLOT.\n",
    "plt.imshow(master_dark,vmin=-100,vmax=100)\n",
    "plt.colorbar()"
   ]
  },
  {
   "cell_type": "markdown",
   "id": "local-performer",
   "metadata": {},
   "source": [
    "Le cambiamos el nombre de la imagen a masterdark "
   ]
  },
  {
   "cell_type": "code",
   "execution_count": null,
   "id": "failing-partner",
   "metadata": {},
   "outputs": [],
   "source": [
    "HR=archivo_fits_dark['PRIMARY'].header\n",
    "HR['OBJECT']='master_dark'"
   ]
  },
  {
   "cell_type": "markdown",
   "id": "ranging-display",
   "metadata": {},
   "source": [
    "Guardamos el masterdark en un formato FITS"
   ]
  },
  {
   "cell_type": "code",
   "execution_count": null,
   "id": "authentic-priority",
   "metadata": {},
   "outputs": [],
   "source": [
    "Hdu = fits.PrimaryHDU(master_dark,HR)\n",
    "Hdu.writeto('master_dark.fits')"
   ]
  },
  {
   "cell_type": "markdown",
   "id": "established-appraisal",
   "metadata": {},
   "source": [
    "## CORRECCIÓN POR DARK A LAS IMÁGENES DE CIENCIA "
   ]
  },
  {
   "cell_type": "code",
   "execution_count": null,
   "id": "noticed-lease",
   "metadata": {},
   "outputs": [],
   "source": [
    "# ESCRIBIMOS LA DIRECCIÓN DE MASTER_DARK\n",
    "Master_dark = fits.open(\"/Volumes/Cami/TESIS/datos_obser_5_marzo/dark/master_dark.fits\")\n",
    "Master_dark.info()\n",
    "masterdark = Master_dark[0].data\n",
    "\n",
    "# ESCRIBIMOS LA DIRECCIÓN DE LAS IMÁGENES DE CIENCIAS\n",
    "direc_ciencia = str('/Volumes/Cami/TESIS/datos_obser_5_marzo/Imgs_ciencia')\n",
    "os.chdir(direc_ciencia)\n",
    "os.getcwd()"
   ]
  },
  {
   "cell_type": "markdown",
   "id": "unauthorized-dominant",
   "metadata": {},
   "source": [
    "PRrimero debemos obtener el scaleFactor y para eso debemos obtener los tiempos de exposición (ExpTime) de cada imagen de ciencia"
   ]
  },
  {
   "cell_type": "code",
   "execution_count": null,
   "id": "contrary-source",
   "metadata": {},
   "outputs": [],
   "source": [
    "lista_ciencias = glob(\"/Volumes/cami/Observacion13enero/Observacion_ciencia/*.fits\")\n",
    "ciencia = []\n",
    "archivo_fits_ciencia=[]\n",
    "\n",
    "for archivo in tqdm(lista_ciencias):\n",
    "    archivo_fits_ciencia = fits.open(archivo,\"readonly\",memmap=False) #leer un archivo FITS\n",
    "    ciencia.append(archivo_fits_ciencia)\n",
    "\n",
    "#TIEMPO DE EXPOSICIÓN DE LAS IMÁGENES CIENCIAS\n",
    "exptime=[]\n",
    "for i in range(len(ciencia)):\n",
    "    exptime.append(ciencia[i]['PRIMARY'].header['EXPTIME'])\n",
    "#exptime"
   ]
  },
  {
   "cell_type": "markdown",
   "id": "legendary-grave",
   "metadata": {},
   "source": [
    "### scaleFactor"
   ]
  },
  {
   "cell_type": "markdown",
   "id": "nervous-antibody",
   "metadata": {},
   "source": [
    "La definición de scaleFactor es:\n",
    "$$ scaleFactor = \\frac{expTime}{darkExpTime}*sarkScaling[nfs]['slope'] + darkScaling[nfs]['intercept']$$\n",
    "\n",
    "donde $darkScaling[nfs]['slope'] = 1$ y $darkScaling[nfs]['intercept'] = 0 $ y el darkExpTime se busca en la imagen de masterdark(es un valor constante)"
   ]
  },
  {
   "cell_type": "code",
   "execution_count": null,
   "id": "urban-understanding",
   "metadata": {},
   "outputs": [],
   "source": [
    "# darkExpTime ES EL TIEMPO DE EXPOSICIÓN DEL MASTERDARK\n",
    "darkExpTime = 8.733\n",
    "\n",
    "# CALCULAMOS EL scaleFactor\n",
    "for i in range(len(exptime)):\n",
    "    exptime[i] /= 8.733\n",
    "    \n",
    "scaleFactor=np.array(exptime)  "
   ]
  },
  {
   "cell_type": "markdown",
   "id": "simplified-compromise",
   "metadata": {},
   "source": [
    "## APLICAMOS LA CORRECCIÓN "
   ]
  },
  {
   "cell_type": "code",
   "execution_count": null,
   "id": "inappropriate-apparatus",
   "metadata": {},
   "outputs": [],
   "source": [
    "img_ciencia_correc = np.zeros((2048,2048))\n",
    "\n",
    "for i in tqdm(range(len(lista_ciencias))):\n",
    "    fits_ciencia = fits.open(lista_ciencias[i])\n",
    "    img_ciencia = fits_ciencia['PRIMARY'].data\n",
    "    \n",
    "    img_ciencia_correc = img_ciencia - (masterdark*scaleFactor[i])\n",
    "    \n",
    "    #Guardando las imágenes nuevas\n",
    "    HR = fits_ciencia['PRIMARY'].header\n",
    "    Hdu = fits.PrimaryHDU(img_ciencia_correc,HR)\n",
    "    Hdu.writeto(lista_ciencias[i].replace('.fits','_dark.fits'))"
   ]
  },
  {
   "cell_type": "markdown",
   "id": "portable-mattress",
   "metadata": {},
   "source": [
    "Una vez que se corrigieron los flats por los dark, podemos hacer la reducción para luego aplicarlos a las imágenes de ciencia. "
   ]
  },
  {
   "cell_type": "markdown",
   "id": "rolled-retro",
   "metadata": {},
   "source": [
    "## REDUCCIÓN DE FLATS"
   ]
  },
  {
   "cell_type": "code",
   "execution_count": 2,
   "id": "bottom-badge",
   "metadata": {},
   "outputs": [],
   "source": [
    "# DIRECTORIO DE LAS IMÁGENES DE CIENCIAS CORREGIDAS POR LOS DARKs\n",
    "Direc_ciencia=glob(\"/Volumes/Cami/Observacion13enero/Observacion_ciencia/*_dark.fits\")"
   ]
  },
  {
   "cell_type": "markdown",
   "id": "sacred-impossible",
   "metadata": {},
   "source": [
    "Hacemos una lista donde solo se encuentren los flats y le aplicamos el promedio a todas esas imágenes. "
   ]
  },
  {
   "cell_type": "code",
   "execution_count": null,
   "id": "impossible-marble",
   "metadata": {},
   "outputs": [],
   "source": [
    "flats = []\n",
    "archivo_fits_flats = []\n",
    "\n",
    "for archivo in tqdm(Direc_ciencia):\n",
    "    archivo_fits_flats = fits.open(archivo,\"readonly\",memmap=False) #leer un archivo FITS\n",
    "    if (archivo_fits_flats['PRIMARY'].header['OBSTYPE'] =='dflat'):\n",
    "        img = fits.getdata(archivo)\n",
    "        flats.append(img)\n",
    "master_flats = np.nanmean(flats,axis=0)\n",
    "    #archivo_fits.close()"
   ]
  },
  {
   "cell_type": "code",
   "execution_count": null,
   "id": "stylish-opera",
   "metadata": {},
   "outputs": [],
   "source": [
    "## PARA CORROBORAR EL master_flats EN UN PLOT.\n",
    "plt.imshow(master_flats,vmin=14000,vmax=18000)\n",
    "plt.colorbar()"
   ]
  },
  {
   "cell_type": "markdown",
   "id": "intensive-transfer",
   "metadata": {},
   "source": [
    "Le cambiamos el nombre de la imagen a masterflats"
   ]
  },
  {
   "cell_type": "code",
   "execution_count": null,
   "id": "confidential-washington",
   "metadata": {},
   "outputs": [],
   "source": [
    "hr=archivo_fits_flats['PRIMARY'].header\n",
    "hr['OBJECT']='master_flats'"
   ]
  },
  {
   "cell_type": "markdown",
   "id": "asian-reducing",
   "metadata": {},
   "source": [
    "Guardamos el masterflats en un formato FITS"
   ]
  },
  {
   "cell_type": "code",
   "execution_count": null,
   "id": "sustainable-writing",
   "metadata": {},
   "outputs": [],
   "source": [
    "hdu = fits.PrimaryHDU(master_flats,hr)\n",
    "hdu.writeto('master_flats.fits')"
   ]
  },
  {
   "cell_type": "markdown",
   "id": "median-apparel",
   "metadata": {},
   "source": [
    "## CORRECCIÓN POR FLATS A LAS IMÁGENES DE CIENCIA"
   ]
  },
  {
   "cell_type": "code",
   "execution_count": null,
   "id": "convertible-punch",
   "metadata": {},
   "outputs": [],
   "source": [
    "# ESCRIBIMOS LA DIRECCIÓN DE MASTER_FLATS\n",
    "Master_flats = fits.open(\"/Volumes/Cami/TESIS/datos_obser_5_marzo/dark/master_flats.fits\")\n",
    "Master_flats.info()\n",
    "masterflats = Master_flats[0].data\n",
    "\n",
    "# ESCRIBIMOS LA DIRECCIÓN DE LAS IMÁGENES DE CIENCIAS\n",
    "Direc_ciencia=glob(\"/Volumes/Cami/Observacion13enero/Observacion_ciencia/*_dark.fits\")\n",
    "os.chdir(Direc_ciencia)\n",
    "os.getcwd()"
   ]
  },
  {
   "cell_type": "markdown",
   "id": "employed-gathering",
   "metadata": {},
   "source": [
    "En la primera prueba dan valores 0 en el masterflat y para esto se reemplaza  los ceros por el promedio de los píxeles vecinos."
   ]
  },
  {
   "cell_type": "code",
   "execution_count": null,
   "id": "recorded-needle",
   "metadata": {},
   "outputs": [],
   "source": [
    "# LOS n_x y n_y SON EL TAMAÑOS DE LA IMAGEN \n",
    "n_x = n_y = 2048         \n",
    "for i in range(n_x):\n",
    "    for j in range(n_y):\n",
    "        if masterflat[i,j] == 0:\n",
    "            masterflat[i,j] = masterflat[i-1:i+2,j-1:j+2].mean()\n",
    "#(masterflat==0).sum()"
   ]
  },
  {
   "cell_type": "markdown",
   "id": "catholic-singing",
   "metadata": {},
   "source": [
    "APLICAMOS LA CORRECCIÓN"
   ]
  },
  {
   "cell_type": "code",
   "execution_count": null,
   "id": "wrapped-canon",
   "metadata": {},
   "outputs": [],
   "source": [
    "img_ciencia_corr_flats = np.zeros((2048,2048))\n",
    "mean_MF = masterflat.mean()\n",
    "img_astro=[]\n",
    "\n",
    "for i in tqdm(range(len(Direc_ciencia))):\n",
    "    fits_ciencia_astro = fits.open(Direc_ciencia[i])\n",
    "    img_ciencia = fits_ciencia_astro['PRIMARY'].data \n",
    "    \n",
    "    if (fits_ciencia_astro['PRIMARY'].header['OBSTYPE']=='astro'):\n",
    "        img=fits.getdata(Direc_ciencia[i])\n",
    "        \n",
    "        img_ciencia_corr_flats =(img/masterflat)*mean_MF\n",
    " \n",
    "        #Guardando las imágenes nuevas\n",
    "        IMG = fits_ciencia_astro['PRIMARY'].header\n",
    "        Hdu = fits.PrimaryHDU(img_ciencia_corr_flats,IMG)\n",
    "        Hdu.writeto(Direc_ciencia[i].replace('.fits','_flats.fits'))"
   ]
  },
  {
   "cell_type": "markdown",
   "id": "identified-flour",
   "metadata": {},
   "source": [
    "Probemos en un plot el img_ciencia_corr_flats"
   ]
  },
  {
   "cell_type": "code",
   "execution_count": null,
   "id": "controversial-marine",
   "metadata": {},
   "outputs": [],
   "source": [
    "plt.imshow(img_ciencia_corr_flat, vmin=5000,vmax=8000)\n",
    "plt.colorbar()"
   ]
  },
  {
   "cell_type": "markdown",
   "id": "warming-aggregate",
   "metadata": {},
   "source": [
    "## RESTA DEL CIELO"
   ]
  },
  {
   "cell_type": "code",
   "execution_count": null,
   "id": "recorded-belarus",
   "metadata": {},
   "outputs": [],
   "source": [
    "# DEFINO EL LUGAR DONDE SE ENCUENTRAN LAS IMÁGENES DE CIENCIA\n",
    "direc_img_ciencia = glob(\"/Volumes/Cami/TESIS/datos_obser_5_marzo/Imgs_ciencia/*_dark_flats.fits\")"
   ]
  },
  {
   "cell_type": "code",
   "execution_count": null,
   "id": "gross-spine",
   "metadata": {},
   "outputs": [],
   "source": [
    "# HACEMOS LA SEPARACIÓN DE LAS IMÁGENES POR EL FILTRO Ks (TAMBIÉN PUEDE SER CON EL FILTRO J)\n",
    "filter_Ks = []\n",
    "for archivo in tqdm(direc_img_ciencia):\n",
    "    filter_1 = fits.getheader(archivo)  #leer un archivo FITS\n",
    "    #print(HR['EXPTIME'])\n",
    "    #print(type(HR['EXPTIME']))\n",
    "    if (filter_1['FILTER'] == 'Ks'):\n",
    "        filter_Ks.append(archivo)"
   ]
  },
  {
   "cell_type": "code",
   "execution_count": null,
   "id": "behind-apparatus",
   "metadata": {},
   "outputs": [],
   "source": [
    "# HACEMOS LA SEPARACIÓN POR EL MISMO Loop \n",
    "loops=[]\n",
    "for archivo in tqdm(filter_Ks):\n",
    "    archivo_fits = fits.open(archivo,\"readonly\",memmap=False) #leer un archivo FITS\n",
    "    if (archivo_fits['PRIMARY'].header['LOOP'] == 1):\n",
    "        img = fits.getdata(archivo)\n",
    "        loops.append(img)"
   ]
  },
  {
   "cell_type": "code",
   "execution_count": null,
   "id": "altered-triangle",
   "metadata": {},
   "outputs": [],
   "source": [
    "# SACAMOS LA MEDIANA DE LAS IMÁGENES DE CIENCIA \n",
    "subtractSky = np.median(loops,axis=0)"
   ]
  },
  {
   "cell_type": "code",
   "execution_count": null,
   "id": "breathing-metallic",
   "metadata": {},
   "outputs": [],
   "source": [
    "img_ciencia_correc_sky = np.zeros((2048,2048))\n",
    "\n",
    "for i in tqdm(range(len(direc_img_ciencia))):\n",
    "    img_sky = fits.open(direc_img_ciencia[i], \"readonly\",memmap = False)\n",
    "    Img_Sky = img_sky['PRIMARY'].data\n",
    "    \n",
    "    ## imágenes corregidas\n",
    "    \n",
    "    img_ciencia_correc_sky = Img_Sky - subtractSky[i]\n",
    "        \n",
    "    #Guardando las imágenes nuevas\n",
    "   \n",
    "    HR = img_sky['PRIMARY'].header\n",
    "    Hdu = fits.PrimaryHDU(img_ciencia_correc_sky,HR)\n",
    "    Hdu.writeto(direc_img_ciencia[i].replace('.fits','_sky.fits'))"
   ]
  },
  {
   "cell_type": "code",
   "execution_count": null,
   "id": "joined-navigator",
   "metadata": {},
   "outputs": [],
   "source": [
    "# PARA CORROBORAR, HACEMOS UN PLOTS\n",
    "plt.imshow(img_ciencia_correc_sky, vmin=2,vmax=5)\n",
    "plt.colorbar()"
   ]
  }
 ],
 "metadata": {
  "kernelspec": {
   "display_name": "Python 3",
   "language": "python",
   "name": "python3"
  },
  "language_info": {
   "codemirror_mode": {
    "name": "ipython",
    "version": 3
   },
   "file_extension": ".py",
   "mimetype": "text/x-python",
   "name": "python",
   "nbconvert_exporter": "python",
   "pygments_lexer": "ipython3",
   "version": "3.8.5"
  }
 },
 "nbformat": 4,
 "nbformat_minor": 5
}
